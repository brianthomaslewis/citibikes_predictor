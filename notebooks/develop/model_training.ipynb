{
 "cells": [
  {
   "cell_type": "code",
   "execution_count": 52,
   "metadata": {},
   "outputs": [],
   "source": [
    "# Install a pip package in the current Jupyter kernel\n",
    "# import sys\n",
    "# !{sys.executable} -m pip install sklearn\n",
    "# !{sys.executable} -m pip install statsmodel\n",
    "\n",
    "import pandas as pd\n",
    "import numpy as np\n",
    "# import itertools\n",
    "import warnings\n",
    "import statsmodels.api as sm\n",
    "\n",
    "from datetime import datetime, timedelta\n",
    "\n",
    "# Remove later\n",
    "import matplotlib.pyplot as plt\n",
    "\n",
    "from statsmodels.tsa.arima_model import ARIMA\n",
    "# import argparse\n",
    "# import yaml\n",
    "from sklearn.model_selection import TimeSeriesSplit\n",
    "# import logging.config\n",
    "# import boto3\n",
    "import sys\n",
    "# import botocore.exceptions as botoexceptions\n",
    "from datetime import datetime\n",
    "import os"
   ]
  },
  {
   "cell_type": "code",
   "execution_count": 35,
   "metadata": {},
   "outputs": [],
   "source": [
    "# from shutil import copyfile\n",
    "\n",
    "# def train_station_models(df, model_params, optional_fit_args):\n",
    "\"\"\"\n",
    "Trains a ARIMA model for forecasting inventory for each Citi Bike station that has the necessary data\n",
    "Args:\n",
    "    df (pandas DataFrame): input data consisting of confirmed cases globally by day\n",
    "    model_params (dict): ARIMA model required fit parameters\n",
    "    optional_fit_args (dict): ARIMA model additional hyperparameters\n",
    "Returns:\n",
    "    station_models_df (pandas: ARIMA trained model object\n",
    "\"\"\"\n",
    "\n",
    "raw_data = pd.read_csv('/Users/Brian/git/423_avc/2021-msia423-lewis-brian-project/data/time_series.csv')\n",
    "\n",
    "df = raw_data[['station_id', 'date', 'stock']]\n",
    "# .query('station_id == 72 | station_id == 79')\n",
    "\n",
    "# get list of each station in the dataset\n",
    "station_list = df.station_id.unique()\n",
    "\n",
    "# initial lists to be appended to through training loop\n",
    "mapes_station_arima = []\n",
    "stations_w_models =[]\n",
    "station_models = []"
   ]
  },
  {
   "cell_type": "code",
   "execution_count": 36,
   "metadata": {},
   "outputs": [
    {
     "name": "stdout",
     "output_type": "stream",
     "text": [
      "1325\n"
     ]
    }
   ],
   "source": [
    "print(len(station_list))"
   ]
  },
  {
   "cell_type": "code",
   "execution_count": 16,
   "metadata": {},
   "outputs": [
    {
     "data": {
      "image/png": "[encoded data removed]",
      "text/plain": [
       "<Figure size 432x288 with 1 Axes>"
      ]
     },
     "metadata": {},
     "output_type": "display_data"
    }
   ],
   "source": [
    "plot_data = df.query('station_id == 72 | station_').drop('station_id', axis = 1)\n",
    "plot_data.plot()\n",
    "plt.show()"
   ]
  },
  {
   "cell_type": "code",
   "execution_count": 63,
   "metadata": {},
   "outputs": [
    {
     "data": {
      "text/plain": [
       "3000"
      ]
     },
     "execution_count": 63,
     "metadata": {},
     "output_type": "execute_result"
    }
   ],
   "source": [
    "# Generate forecast time range until August 4 at midnight\n",
    "def daterange(start_date, end_date):\n",
    "    delta = timedelta(hours=1)\n",
    "    while start_date < end_date:\n",
    "        yield start_date\n",
    "        start_date += delta\n",
    "        \n",
    "date_time_list = []\n",
    "        \n",
    "start_date = datetime(2021, 4, 1, 0, 00)\n",
    "end_date = datetime(2021, 8, 4, 0, 00)\n",
    "for single_date in daterange(start_date, end_date):\n",
    "    date_time_list.append(single_date.strftime(\"%Y-%m-%d %H:%M\"))\n",
    "        \n",
    "len(date_time_list)"
   ]
  },
  {
   "cell_type": "code",
   "execution_count": 67,
   "metadata": {},
   "outputs": [
    {
     "data": {
      "text/html": [
       "<div>\n",
       "<style scoped>\n",
       "    .dataframe tbody tr th:only-of-type {\n",
       "        vertical-align: middle;\n",
       "    }\n",
       "\n",
       "    .dataframe tbody tr th {\n",
       "        vertical-align: top;\n",
       "    }\n",
       "\n",
       "    .dataframe thead th {\n",
       "        text-align: right;\n",
       "    }\n",
       "</style>\n",
       "<table border=\"1\" class=\"dataframe\">\n",
       "  <thead>\n",
       "    <tr style=\"text-align: right;\">\n",
       "      <th></th>\n",
       "      <th>station_id</th>\n",
       "      <th>date_time</th>\n",
       "      <th>pred_num_bikes</th>\n",
       "    </tr>\n",
       "  </thead>\n",
       "  <tbody>\n",
       "    <tr>\n",
       "      <th>0</th>\n",
       "      <td>72</td>\n",
       "      <td>2021-04-01 00:00</td>\n",
       "      <td>49</td>\n",
       "    </tr>\n",
       "    <tr>\n",
       "      <th>1</th>\n",
       "      <td>72</td>\n",
       "      <td>2021-04-01 01:00</td>\n",
       "      <td>47</td>\n",
       "    </tr>\n",
       "    <tr>\n",
       "      <th>2</th>\n",
       "      <td>72</td>\n",
       "      <td>2021-04-01 02:00</td>\n",
       "      <td>46</td>\n",
       "    </tr>\n",
       "    <tr>\n",
       "      <th>3</th>\n",
       "      <td>72</td>\n",
       "      <td>2021-04-01 03:00</td>\n",
       "      <td>45</td>\n",
       "    </tr>\n",
       "    <tr>\n",
       "      <th>4</th>\n",
       "      <td>72</td>\n",
       "      <td>2021-04-01 04:00</td>\n",
       "      <td>44</td>\n",
       "    </tr>\n",
       "    <tr>\n",
       "      <th>...</th>\n",
       "      <td>...</td>\n",
       "      <td>...</td>\n",
       "      <td>...</td>\n",
       "    </tr>\n",
       "    <tr>\n",
       "      <th>3614995</th>\n",
       "      <td>4429</td>\n",
       "      <td>2021-08-03 19:00</td>\n",
       "      <td>20</td>\n",
       "    </tr>\n",
       "    <tr>\n",
       "      <th>3614996</th>\n",
       "      <td>4429</td>\n",
       "      <td>2021-08-03 20:00</td>\n",
       "      <td>20</td>\n",
       "    </tr>\n",
       "    <tr>\n",
       "      <th>3614997</th>\n",
       "      <td>4429</td>\n",
       "      <td>2021-08-03 21:00</td>\n",
       "      <td>20</td>\n",
       "    </tr>\n",
       "    <tr>\n",
       "      <th>3614998</th>\n",
       "      <td>4429</td>\n",
       "      <td>2021-08-03 22:00</td>\n",
       "      <td>20</td>\n",
       "    </tr>\n",
       "    <tr>\n",
       "      <th>3614999</th>\n",
       "      <td>4429</td>\n",
       "      <td>2021-08-03 23:00</td>\n",
       "      <td>20</td>\n",
       "    </tr>\n",
       "  </tbody>\n",
       "</table>\n",
       "<p>3615000 rows × 3 columns</p>\n",
       "</div>"
      ],
      "text/plain": [
       "         station_id         date_time  pred_num_bikes\n",
       "0                72  2021-04-01 00:00              49\n",
       "1                72  2021-04-01 01:00              47\n",
       "2                72  2021-04-01 02:00              46\n",
       "3                72  2021-04-01 03:00              45\n",
       "4                72  2021-04-01 04:00              44\n",
       "...             ...               ...             ...\n",
       "3614995        4429  2021-08-03 19:00              20\n",
       "3614996        4429  2021-08-03 20:00              20\n",
       "3614997        4429  2021-08-03 21:00              20\n",
       "3614998        4429  2021-08-03 22:00              20\n",
       "3614999        4429  2021-08-03 23:00              20\n",
       "\n",
       "[3615000 rows x 3 columns]"
      ]
     },
     "execution_count": 67,
     "metadata": {},
     "output_type": "execute_result"
    }
   ],
   "source": [
    "# for each station in the list, attempt to build an ARIMA model for forecasting\n",
    "warnings.filterwarnings(\"ignore\") # specify to ignore warning messages\n",
    "\n",
    "# df_use = df.query('station_id == 72')\n",
    "df_use = df\n",
    "\n",
    "dict_list = []\n",
    "\n",
    "for station in station_list:\n",
    "\n",
    "    # subset dataframe to station of interest\n",
    "    df_train = df_use.loc[df['station_id'] == station]\n",
    "    df_train.reset_index(inplace=True, drop=True)\n",
    "    y = df_train['stock']\n",
    "\n",
    "    # only perform training if there are at least 72 hours (2 weeks) of data with at least 1 bike in that station\n",
    "    enough_data_flag = len(df_train.loc[df_train['stock'] > 0])\n",
    "    if enough_data_flag > 72:\n",
    "\n",
    "        # train on all the data\n",
    "        arima_def = ARIMA(y, order=(1, 0, 0))\n",
    "        model_arima = arima_def.fit(\n",
    "                                          method= 'css-mle',\n",
    "                                          solver= 'lbfgs',\n",
    "                                          maxiter= 500,\n",
    "                                          tol= 1e-08, disp=0\n",
    "        )\n",
    "        \n",
    "        # append model object reference to a list\n",
    "        stations_w_models.append(station)\n",
    "        station_models.append(model_arima)\n",
    "\n",
    "        # for a rough evaluation of each model, train on all but last 6 hours and evaluate on those \n",
    "        y_train = y.iloc[0:len(y) - 6]\n",
    "        y_test = y.iloc[-6:]\n",
    "        arima_model_eval = ARIMA(y_train, order=(1, 0, 0))\n",
    "        model_eval_arima_fit = arima_model_eval.fit(\n",
    "                                                          method= 'css-mle',\n",
    "                                                          solver= 'lbfgs',\n",
    "                                                          maxiter= 500,\n",
    "                                                          tol= 1e-08, disp=0\n",
    "        )\n",
    "        \n",
    "        y_pred = model_eval_arima_fit.forecast(len(y_test))[0]\n",
    "        mape_result = (abs((y_pred -y_test) / y_test) * 100).mean()\n",
    "        \n",
    "        if mape_result > 100:\n",
    "            mape_result = 100\n",
    "        else: \n",
    "            mape_result = mape_result\n",
    "        \n",
    "        mapes_station_arima.append(mape_result)\n",
    "        \n",
    "        # Build forecast table\n",
    "        forecasts = pd.DataFrame(model_arima.forecast(steps = 3000)).transpose()[0]\n",
    "        \n",
    "        for i in range(0,3000):\n",
    "            forecast_d = {'station_id': station, \n",
    "                          'date_time': date_time_list[i], \n",
    "                          'pred_num_bikes': round(forecasts[i])}\n",
    "            dict_list.append(forecast_d)\n",
    "        \n",
    "    else:\n",
    "        pass\n",
    "    \n",
    "predictions = pd.DataFrame(dict_list)\n",
    "predictions\n"
   ]
  },
  {
   "cell_type": "code",
   "execution_count": 41,
   "metadata": {},
   "outputs": [],
   "source": [
    "# create a dataframe consisting of the stations for which a model could be built. In that dataframe have\n",
    "# station name,\n",
    "# reference to trained model object, and its approximate MAPE\n",
    "station_models_df = pd.DataFrame({'Station': stations_w_models,'Model':station_models,'MAPE':mapes_station_arima})\n",
    "no_model_stations = len(station_list)-len(station_models_df)\n",
    "# logger.info(\"Station models trained. Models could not be generated for {} stations due to lack of data.\".format(no_model_countries))\n",
    "\n",
    "output = station_models_df"
   ]
  },
  {
   "cell_type": "code",
   "execution_count": 42,
   "metadata": {},
   "outputs": [
    {
     "name": "stdout",
     "output_type": "stream",
     "text": [
      "1289\n",
      "1289\n",
      "1289\n"
     ]
    }
   ],
   "source": [
    "print(len(stations_w_models))\n",
    "print(len(station_models))\n",
    "print(len(mapes_station_arima))"
   ]
  },
  {
   "cell_type": "code",
   "execution_count": 34,
   "metadata": {},
   "outputs": [
    {
     "data": {
      "text/html": [
       "<div>\n",
       "<style scoped>\n",
       "    .dataframe tbody tr th:only-of-type {\n",
       "        vertical-align: middle;\n",
       "    }\n",
       "\n",
       "    .dataframe tbody tr th {\n",
       "        vertical-align: top;\n",
       "    }\n",
       "\n",
       "    .dataframe thead th {\n",
       "        text-align: right;\n",
       "    }\n",
       "</style>\n",
       "<table border=\"1\" class=\"dataframe\">\n",
       "  <thead>\n",
       "    <tr style=\"text-align: right;\">\n",
       "      <th></th>\n",
       "      <th>Station</th>\n",
       "      <th>Model</th>\n",
       "      <th>MAPE</th>\n",
       "    </tr>\n",
       "  </thead>\n",
       "  <tbody>\n",
       "    <tr>\n",
       "      <th>0</th>\n",
       "      <td>72</td>\n",
       "      <td>&lt;statsmodels.tsa.arima_model.ARMAResultsWrappe...</td>\n",
       "      <td>12.995392</td>\n",
       "    </tr>\n",
       "    <tr>\n",
       "      <th>1</th>\n",
       "      <td>79</td>\n",
       "      <td>&lt;statsmodels.tsa.arima_model.ARMAResultsWrappe...</td>\n",
       "      <td>36.588195</td>\n",
       "    </tr>\n",
       "  </tbody>\n",
       "</table>\n",
       "</div>"
      ],
      "text/plain": [
       "   Station                                              Model       MAPE\n",
       "0       72  <statsmodels.tsa.arima_model.ARMAResultsWrappe...  12.995392\n",
       "1       79  <statsmodels.tsa.arima_model.ARMAResultsWrappe...  36.588195"
      ]
     },
     "execution_count": 34,
     "metadata": {},
     "output_type": "execute_result"
    }
   ],
   "source": [
    "output"
   ]
  }
 ],
 "metadata": {
  "kernelspec": {
   "display_name": "msia423",
   "language": "python",
   "name": "msia423"
  },
  "language_info": {
   "codemirror_mode": {
    "name": "ipython",
    "version": 3
   },
   "file_extension": ".py",
   "mimetype": "text/x-python",
   "name": "python",
   "nbconvert_exporter": "python",
   "pygments_lexer": "ipython3",
   "version": "3.8.8"
  }
 },
 "nbformat": 4,
 "nbformat_minor": 4
}
